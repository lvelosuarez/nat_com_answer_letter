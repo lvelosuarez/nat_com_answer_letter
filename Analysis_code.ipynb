{
 "cells": [
  {
   "cell_type": "code",
   "execution_count": 1,
   "id": "provincial-suspension",
   "metadata": {},
   "outputs": [],
   "source": [
    "import pandas as pd\n",
    "import re\n",
    "import os\n",
    "import logging\n",
    "import numpy as np\n",
    "from collections import defaultdict"
   ]
  },
  {
   "cell_type": "markdown",
   "id": "velvet-bradford",
   "metadata": {},
   "source": [
    "![paper](img/paper_shot.png \"Article\")"
   ]
  },
  {
   "cell_type": "markdown",
   "id": "limited-toronto",
   "metadata": {},
   "source": [
    "# Bioinformatic pipeline"
   ]
  },
  {
   "cell_type": "markdown",
   "id": "vital-designer",
   "metadata": {},
   "source": [
    "![PRJNA632856](img/PRJNA632856.png \"PRJNA632856 description\")"
   ]
  },
  {
   "cell_type": "markdown",
   "id": "missing-regard",
   "metadata": {},
   "source": [
    "## Download raw files and metadata from NCBI"
   ]
  },
  {
   "cell_type": "code",
   "execution_count": null,
   "id": "ambient-crack",
   "metadata": {},
   "outputs": [],
   "source": [
    "! wget 'http://trace.ncbi.nlm.nih.gov/Traces/sra/sra.cgi?save=efetch&rettype=runinfo&db=sra&term=PRJNA632856' -O -  > PRJNA632856.cvs"
   ]
  },
  {
   "cell_type": "code",
   "execution_count": null,
   "id": "regular-planning",
   "metadata": {
    "scrolled": true
   },
   "outputs": [],
   "source": [
    "%%bash\n",
    "parallel --verbose -j 20 prefetch {} ::: $(awk 'BEGIN { FS=\",\" } !/Run/{print $1}' PRJNA632856.cvs)\n",
    "parallel --verbose -j 20 fastq-dump --split-files {} ::: $(awk 'BEGIN { FS=\",\" } !/Run/{print $1}' PRJNA632856.cvs)\n",
    "parallel bgzip {} ::: *.fastq\n",
    "mkdir RAW && mv *gz RAW/"
   ]
  },
  {
   "cell_type": "markdown",
   "id": "leading-jacksonville",
   "metadata": {},
   "source": [
    "## Run snakemake to analyze fastq.gz raw files\n",
    "### Create a config file with raw files path"
   ]
  },
  {
   "cell_type": "code",
   "execution_count": null,
   "id": "located-holder",
   "metadata": {},
   "outputs": [],
   "source": [
    "path = \"RAW\"\n",
    "samples = defaultdict(dict)\n",
    "seen = set()\n",
    "for dir_name, sub_dirs, files in os.walk(os.path.abspath(path)):\n",
    "        for fname in files:\n",
    "            if \".fastq.gz\" in fname:\n",
    "                sample_id = fname.split(\".fastq.gz\")[0]\n",
    "                sample_id = sample_id.replace(\"_1\", \"\").replace(\"_2\", \"\")\n",
    "                fq_path = os.path.join(dir_name, fname)\n",
    "                if \"_1\" in fname:\n",
    "                    samples[sample_id]['R1'] = fq_path\n",
    "                else:\n",
    "                    samples[sample_id]['R2'] = fq_path\n",
    "samples= pd.DataFrame(samples).T\n",
    "samples.index.name = 'sample_id'\n",
    "samples.to_csv(\"config.tsv\",sep='\\t')"
   ]
  },
  {
   "cell_type": "markdown",
   "id": "terminal-shanghai",
   "metadata": {},
   "source": [
    "### Run the snakemake pipeline \n",
    "Rules used to run the snakemake are synthetizased in the figure below. Results will be stored in the output folder. \n",
    "\n",
    "\n",
    "![pipeline](img/pipeline.png \"pipeline description\")"
   ]
  },
  {
   "cell_type": "code",
   "execution_count": null,
   "id": "southwest-friday",
   "metadata": {},
   "outputs": [],
   "source": [
    "# Run the loop\n",
    "! snakemake --use-conda --conda-frontend mamba -j 15 && snakemake --report report.html "
   ]
  },
  {
   "cell_type": "markdown",
   "id": "improved-omega",
   "metadata": {},
   "source": [
    "## Statistical analysis on snakemake results"
   ]
  },
  {
   "cell_type": "code",
   "execution_count": null,
   "id": "valid-index",
   "metadata": {},
   "outputs": [],
   "source": [
    "## Create a metadata file from metadata csv downloaded from ncbi\n",
    "S = pd.read_table(\"PRJNA632856.cvs\",sep=\",\",index_col=0)[[\"SampleName\"]]\n",
    "S[['SRR','Sample','Replicate','kit']] = S.SampleName.str.replace(\"_\",\"\").str.replace(\"replicate\",\"Replicate\").str.split('(?=[A-Z])',expand=True)\n",
    "S['experiment'] = S['Sample'].apply(lambda x: 'sample' if 'Patient' in x else 'mock')\n",
    "S = S[['Sample','Replicate','kit','experiment']]\n",
    "S = S.sort_values(['experiment','Sample','kit'])"
   ]
  }
 ],
 "metadata": {
  "kernelspec": {
   "display_name": "Python 3",
   "language": "python",
   "name": "python3"
  },
  "language_info": {
   "codemirror_mode": {
    "name": "ipython",
    "version": 3
   },
   "file_extension": ".py",
   "mimetype": "text/x-python",
   "name": "python",
   "nbconvert_exporter": "python",
   "pygments_lexer": "ipython3",
   "version": "3.7.9"
  }
 },
 "nbformat": 4,
 "nbformat_minor": 5
}
